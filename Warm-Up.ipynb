{
 "cells": [
  {
   "cell_type": "code",
   "execution_count": 4,
   "id": "8ffdf301",
   "metadata": {},
   "outputs": [
    {
     "name": "stdout",
     "output_type": "stream",
     "text": [
      "[9, 8, 7, 6, 5, 4, 3, 2, 1, 0]\n"
     ]
    }
   ],
   "source": [
    "list = [0,1,2,3,4,5,6,7,8,9]\n",
    "new_list = []\n",
    "\n",
    "for i in range(10):\n",
    "    new_list.append(list[9-i])\n",
    "    \n",
    "print(new_list)"
   ]
  },
  {
   "cell_type": "code",
   "execution_count": 5,
   "id": "ccd691ca",
   "metadata": {},
   "outputs": [
    {
     "name": "stdout",
     "output_type": "stream",
     "text": [
      "[4.5, 4.0, 3.5, 3.0, 2.5, 2.0, 1.5, 1.0, 0.5, 0.0]\n"
     ]
    }
   ],
   "source": [
    "half_list = [j/2 for j in new_list]\n",
    "\n",
    "print(half_list)\n"
   ]
  },
  {
   "cell_type": "code",
   "execution_count": 6,
   "id": "52f04c3c",
   "metadata": {},
   "outputs": [],
   "source": [
    "#M = np.array([[1,2,3],[4,5,6],[7,8,9]])\n",
    "#N = np.array([[]])"
   ]
  },
  {
   "cell_type": "code",
   "execution_count": 9,
   "id": "a5f6bed3",
   "metadata": {},
   "outputs": [],
   "source": [
    "def countdown(n):\n",
    "    \n",
    "    #count backwards from n until we get to 0\n",
    "    if n>0:\n",
    "        #stuff\n",
    "        \n",
    "        countdown(n-1)\n",
    "        print(n)\n",
    "    else:\n",
    "        return #stopping condition - terminates the recursion\n"
   ]
  },
  {
   "cell_type": "code",
   "execution_count": 10,
   "id": "aafed28b",
   "metadata": {},
   "outputs": [
    {
     "name": "stdout",
     "output_type": "stream",
     "text": [
      "1\n",
      "2\n"
     ]
    }
   ],
   "source": [
    "countdown(2)"
   ]
  },
  {
   "cell_type": "code",
   "execution_count": null,
   "id": "d728e6e4",
   "metadata": {},
   "outputs": [],
   "source": []
  }
 ],
 "metadata": {
  "kernelspec": {
   "display_name": "Python 3 (ipykernel)",
   "language": "python",
   "name": "python3"
  },
  "language_info": {
   "codemirror_mode": {
    "name": "ipython",
    "version": 3
   },
   "file_extension": ".py",
   "mimetype": "text/x-python",
   "name": "python",
   "nbconvert_exporter": "python",
   "pygments_lexer": "ipython3",
   "version": "3.9.7"
  }
 },
 "nbformat": 4,
 "nbformat_minor": 5
}
