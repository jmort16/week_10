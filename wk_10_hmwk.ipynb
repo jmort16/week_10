{
 "cells": [
  {
   "cell_type": "markdown",
   "id": "24d51bef",
   "metadata": {},
   "source": [
    "# Week 10 Homework\n",
    "##### Please be sure your functions work for vectors with a size of three and matrices that are 3x3 and use appropriate error handling. Bonus points if you can further generalize them for larger vectors and matrices. "
   ]
  },
  {
   "cell_type": "code",
   "execution_count": 24,
   "id": "e99e2e2a",
   "metadata": {},
   "outputs": [],
   "source": [
    "from pylatex import Document, Section, Subsection, Tabular\n",
    "from pylatex import Math, TikZ, Axis, Plot, Figure, Matrix, Alignat\n",
    "from pylatex.utils import italic\n",
    "import numpy as np\n",
    "from numpy import linalg\n",
    "import math"
   ]
  },
  {
   "cell_type": "markdown",
   "id": "1b859508",
   "metadata": {},
   "source": [
    "##### 1.\tExplain the dot product and cross product in your own words in markdown. Use LaTeX to properly show the equations."
   ]
  },
  {
   "cell_type": "markdown",
   "id": "ff393a45",
   "metadata": {},
   "source": [
    "The dot product of two vectors is the sum of the products of the corresponding elements in the vectors.  It is a number that gives an indication of the extent to which two vectors move in the same direction.  Two vectors that run perpendicular to one another will have a dot product of zero.  Two vectors that overlap one another (and therefor move in exactly the same direction) will have a dot product equal to the parallel component of the magnitude of one vector in relation to the other multiplied by the magnitude of the other vector.\n",
    "\n",
    "Unlike dot product, the cross product of two vectors yields another vector.  This vector runs perpendicular to each of the two vectors and, hence, perpendicular to the plane containing those vectors.  The magnitude of the cross product is equal to the magnitude of the perpendicular component of one vector multiplied by the magnitude of the second vector in its entirety."
   ]
  },
  {
   "cell_type": "markdown",
   "id": "68627ff0",
   "metadata": {},
   "source": [
    "$$\\vec{A} \\cdot \\vec{B}=\\left | \\vec{A} \\right |\\left | \\vec{B} \\right |\\cos\\theta $$\n",
    "\n",
    "$$\\vec{A} \\times \\vec{B}=\\left | \\vec{A} \\right |\\left |\\vec{B} \\right |\\sin\\theta $$"
   ]
  },
  {
   "cell_type": "markdown",
   "id": "24f51818",
   "metadata": {},
   "source": [
    "##### 2.\tWrite a function angle_between(v1, v2) where v1 and v2 are two vectors that are passed in, and the angle between them is calculated. "
   ]
  },
  {
   "cell_type": "code",
   "execution_count": 50,
   "id": "e7ef9781",
   "metadata": {},
   "outputs": [],
   "source": [
    "def angle_between(v1,v2):\n",
    "    \n",
    "    try:\n",
    "        dotprod = np.dot(v1, v2)\n",
    "        v1_mag = linalg.norm(v1)\n",
    "        v2_mag = linalg.norm(v2)\n",
    "        denom = v1_mag * v2_mag\n",
    "        ratio = dotprod/denom\n",
    "        theta = math.acos(ratio)\n",
    "        if denom == 0:\n",
    "            print('Cannot use vector with zero magnitude.  Requires division by zero.')\n",
    "        elif ratio > 1 or ratio < -1:\n",
    "            print('Cosine value must be between -1 and 1 for angle to be determined.')\n",
    "        else:\n",
    "            print('The angle between the vectors is '+str(theta)+' radians.')\n",
    "    except Exception as e:\n",
    "        print(e)"
   ]
  },
  {
   "cell_type": "code",
   "execution_count": 51,
   "id": "e9c5d486",
   "metadata": {},
   "outputs": [
    {
     "name": "stdout",
     "output_type": "stream",
     "text": [
      "Cannot use vector with zero magnitude.  Requires division by zero.\n"
     ]
    },
    {
     "name": "stderr",
     "output_type": "stream",
     "text": [
      "C:\\Users\\JMORTE~1\\AppData\\Local\\Temp/ipykernel_7264/3603668035.py:8: RuntimeWarning: invalid value encountered in true_divide\n",
      "  ratio = dotprod/denom\n"
     ]
    }
   ],
   "source": [
    "# Create two vectors to test the function\n",
    "a = np.array([0, 0, 0, 0, 0])\n",
    "b = np.array([9, 7, 5, 3, 1])\n",
    "\n",
    "angle_between(a,b)"
   ]
  },
  {
   "cell_type": "markdown",
   "id": "c2e7a622",
   "metadata": {},
   "source": [
    "##### 3.\tWrite a function called row_dot(A, r1, r2) which takes an input matrix called A, one row number identified by r1, and another row number identified by r2 and returns the dot product of the r1 and r2 rows (indexing starts at 0).\n"
   ]
  },
  {
   "cell_type": "code",
   "execution_count": null,
   "id": "a41e605e",
   "metadata": {},
   "outputs": [],
   "source": [
    "def row_dot(A, r1, r2):\n",
    "    "
   ]
  },
  {
   "cell_type": "code",
   "execution_count": null,
   "id": "c161dec9",
   "metadata": {},
   "outputs": [],
   "source": [
    "4.\tWrite a function matrix_division(m1, m2) that takes in two matrices, m1 and m2, and returns the result. What is the trick with matrix division?\n",
    "5.\tWrite a function is_orthogonal(v1,v2, tol), where v1 and v2 are column vectors of the same size and tol is a scalar value strictly larger than 0. The output should be 1 if the angle between v1 and v2 is within tol of π/2; that is, |π/2−θ|<tol, and 0 otherwise. \n",
    "# Test cases for problem 5\n",
    "a = np.array([[1], [0.001]])\n",
    "b = np.array([[0.001], [1]])\n",
    "# output: 1\n",
    "is_orthogonal(a,b, 0.01)\n",
    "\n",
    "# output: 0\n",
    "is_orthogonal(a,b, 0.001)\n",
    "\n",
    "# output: 0\n",
    "a = np.array([[1], [0.001]])\n",
    "b = np.array([[1], [1]])\n",
    "is_orthogonal(a,b, 0.01)\n",
    "\n",
    "# output: 1\n",
    "a = np.array([[1], [1]])\n",
    "b = np.array([[-1], [1]])\n",
    "is_orthogonal(a,b, 1e-10)\n",
    "\n",
    "6.\tCreate a class called vector_calculator. __init__ should take self, vector1, and vector2. It should have two methods inside of it that are from problems 1 and 4 above (angle_between and is_orthogonal). Make sure tol is defaulted but can be overwritten. Make sure you can call angle_between and is_orthogonal through the class and return the correct results as in problems 1 and 4. \n",
    "7.\tShow a graphical representation of the breast cancer data outlined in this reading https://www.datacamp.com/community/tutorials/principal-component-analysis-in-python Be sure to describe what PCA is and incorporate the principal components in your plot. This is just exploratory, so there are many correct answers!\n"
   ]
  }
 ],
 "metadata": {
  "kernelspec": {
   "display_name": "Python 3 (ipykernel)",
   "language": "python",
   "name": "python3"
  },
  "language_info": {
   "codemirror_mode": {
    "name": "ipython",
    "version": 3
   },
   "file_extension": ".py",
   "mimetype": "text/x-python",
   "name": "python",
   "nbconvert_exporter": "python",
   "pygments_lexer": "ipython3",
   "version": "3.9.7"
  }
 },
 "nbformat": 4,
 "nbformat_minor": 5
}
