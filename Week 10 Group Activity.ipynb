{
 "cells": [
  {
   "cell_type": "markdown",
   "id": "e4bf1604",
   "metadata": {},
   "source": [
    "1. Write a function that calculates the dot product manually AND a function that\n",
    "calculates the cross product manually. Both should accept two vectors and perform\n",
    "that calculation. Be sure to use try except and error handling for basic issues that\n",
    "might occur.\n",
    "2. In a markdown section in your notebook, explain what one hot encoding is and why we\n",
    "use it. Then, manually calculate a one hot encoding for the Belize_Airbnb_listings.csv\n",
    "neighborhood_group column. Note: manually means don’t use scikitlearn or keras."
   ]
  }
 ],
 "metadata": {
  "kernelspec": {
   "display_name": "Python 3 (ipykernel)",
   "language": "python",
   "name": "python3"
  },
  "language_info": {
   "codemirror_mode": {
    "name": "ipython",
    "version": 3
   },
   "file_extension": ".py",
   "mimetype": "text/x-python",
   "name": "python",
   "nbconvert_exporter": "python",
   "pygments_lexer": "ipython3",
   "version": "3.9.7"
  }
 },
 "nbformat": 4,
 "nbformat_minor": 5
}
