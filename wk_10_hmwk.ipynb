{
 "cells": [
  {
   "cell_type": "markdown",
   "id": "24d51bef",
   "metadata": {},
   "source": [
    "# Week 10 Homework\n",
    "##### Please be sure your functions work for vectors with a size of three and matrices that are 3x3 and use appropriate error handling. Bonus points if you can further generalize them for larger vectors and matrices. "
   ]
  },
  {
   "cell_type": "code",
   "execution_count": 2,
   "id": "e99e2e2a",
   "metadata": {},
   "outputs": [],
   "source": [
    "from pylatex import Document, Section, Subsection, Tabular\n",
    "from pylatex import Math, TikZ, Axis, Plot, Figure, Matrix, Alignat\n",
    "from pylatex.utils import italic\n",
    "import numpy as np\n",
    "from numpy import linalg as la\n",
    "import math"
   ]
  },
  {
   "cell_type": "markdown",
   "id": "1b859508",
   "metadata": {},
   "source": [
    "##### 1.\tExplain the dot product and cross product in your own words in markdown. Use LaTeX to properly show the equations."
   ]
  },
  {
   "cell_type": "markdown",
   "id": "ff393a45",
   "metadata": {},
   "source": [
    "The dot product of two vectors is the sum of the products of the corresponding elements in the vectors.  It is a number that gives an indication of the extent to which two vectors move in the same direction.  Two vectors that run perpendicular to one another will have a dot product of zero.  Two vectors that overlap one another (and therefor move in exactly the same direction) will have a dot product equal to the parallel component of the magnitude of one vector in relation to the other multiplied by the magnitude of the other vector.\n",
    "\n",
    "Unlike dot product, the cross product of two vectors yields another vector.  This vector runs perpendicular to each of the two vectors and, hence, perpendicular to the plane containing those vectors.  The magnitude of the cross product is equal to the magnitude of the perpendicular component of one vector multiplied by the magnitude of the second vector in its entirety."
   ]
  },
  {
   "cell_type": "markdown",
   "id": "68627ff0",
   "metadata": {},
   "source": [
    "$$\\vec{A} \\cdot \\vec{B}=\\left | \\vec{A} \\right |\\left | \\vec{B} \\right |\\cos\\theta $$\n",
    "\n",
    "$$\\vec{A} \\times \\vec{B}=\\left | \\vec{A} \\right |\\left |\\vec{B} \\right |\\sin\\theta $$"
   ]
  },
  {
   "cell_type": "markdown",
   "id": "24f51818",
   "metadata": {},
   "source": [
    "##### 2.\tWrite a function angle_between(v1, v2) where v1 and v2 are two vectors that are passed in, and the angle between them is calculated. "
   ]
  },
  {
   "cell_type": "code",
   "execution_count": 117,
   "id": "e7ef9781",
   "metadata": {},
   "outputs": [],
   "source": [
    "def angle_between(v1,v2):\n",
    "    \n",
    "    try:\n",
    "        dotprod = np.dot(v1, v2)\n",
    "        v1_mag = la.norm(v1)\n",
    "        v2_mag = la.norm(v2)\n",
    "        denom = v1_mag * v2_mag\n",
    "        if denom == 0:\n",
    "            print(\"Must use vectors with nonzero magnitude.  Cannot divide by zero.\")\n",
    "        else:    \n",
    "            ratio = dotprod/denom\n",
    "            theta = math.acos(ratio)\n",
    "            return(theta)\n",
    "    except Exception as e:\n",
    "        print(e)"
   ]
  },
  {
   "cell_type": "code",
   "execution_count": 118,
   "id": "e9c5d486",
   "metadata": {},
   "outputs": [
    {
     "name": "stdout",
     "output_type": "stream",
     "text": [
      "Must use vectors with nonzero magnitude.  Cannot divide by zero.\n"
     ]
    }
   ],
   "source": [
    "# Create two vectors to test the error handling\n",
    "a = np.array([0, 0, 0, 0, 0])\n",
    "b = np.array([9, 7, 5, 3, 1])\n",
    "\n",
    "angle_between(a,b)"
   ]
  },
  {
   "cell_type": "code",
   "execution_count": 119,
   "id": "5ceae353",
   "metadata": {},
   "outputs": [
    {
     "data": {
      "text/plain": [
       "0.89880829982002"
      ]
     },
     "execution_count": 119,
     "metadata": {},
     "output_type": "execute_result"
    }
   ],
   "source": [
    "# Create two vectors to test the function's success\n",
    "c = np.array([3, 5, 7, 9, 11])\n",
    "d = np.array([9, 7, 5, 3, 1])\n",
    "\n",
    "angle_between(c,d)"
   ]
  },
  {
   "cell_type": "markdown",
   "id": "c2e7a622",
   "metadata": {},
   "source": [
    "##### 3.\tWrite a function called row_dot(A, r1, r2) which takes an input matrix called A, one row number identified by r1, and another row number identified by r2 and returns the dot product of the r1 and r2 rows (indexing starts at 0).\n"
   ]
  },
  {
   "cell_type": "code",
   "execution_count": 120,
   "id": "a41e605e",
   "metadata": {},
   "outputs": [],
   "source": [
    "def row_dot(A, r1, r2):\n",
    "    try:\n",
    "        #r1=r1-1\n",
    "        #r2=r2-1\n",
    "        if r1 < 0 or r2 < 0:\n",
    "            print(\"Enter positive row numbers only.\")\n",
    "        else:\n",
    "            dot=np.dot(A[r1-1],A[r2-1])\n",
    "            print('The dot product of row',r1,' and row',r2,' is ',dot,'.')\n",
    "    except Exception as e:\n",
    "        print(e)"
   ]
  },
  {
   "cell_type": "code",
   "execution_count": 121,
   "id": "82c062d2",
   "metadata": {},
   "outputs": [
    {
     "name": "stdout",
     "output_type": "stream",
     "text": [
      "The dot product of row 2  and row 4  is  -87 .\n"
     ]
    }
   ],
   "source": [
    "# Create matrix B to test function success\n",
    "B = [[4,3,5,8],\n",
    "     [-3,6,9,2],\n",
    "     [0,2,-7,1],\n",
    "     [-5,-1,-10,-3]]\n",
    "\n",
    "row_dot(B,2,4)"
   ]
  },
  {
   "cell_type": "code",
   "execution_count": 122,
   "id": "ae48ae43",
   "metadata": {},
   "outputs": [
    {
     "name": "stdout",
     "output_type": "stream",
     "text": [
      "Enter positive row numbers only.\n"
     ]
    }
   ],
   "source": [
    "# Test error handling\n",
    "row_dot(B,-2,2)"
   ]
  },
  {
   "cell_type": "code",
   "execution_count": 123,
   "id": "e59bc616",
   "metadata": {},
   "outputs": [
    {
     "name": "stdout",
     "output_type": "stream",
     "text": [
      "list index out of range\n"
     ]
    }
   ],
   "source": [
    "# Test error handling\n",
    "row_dot(B,1,6)"
   ]
  },
  {
   "cell_type": "markdown",
   "id": "6c0da477",
   "metadata": {},
   "source": [
    "##### 4.\tWrite a function matrix_division(m1, m2) that takes in two matrices, m1 and m2, and returns the result. What is the trick with matrix division?\n"
   ]
  },
  {
   "cell_type": "code",
   "execution_count": 124,
   "id": "fa156dc9",
   "metadata": {},
   "outputs": [],
   "source": [
    "def matrix_division(m1,m2):\n",
    "    try:\n",
    "        m1_inv = la.inv(m1) # for multiplication later\n",
    "        m2_trans = np.transpose(m2) # for dot products later\n",
    "        # Create a zero matrix to house the result. Dimensions are equal to the number of rows in matrix m1_inv and the number\n",
    "        # of columns in matrix m2 (same as number of rows in m2 tranpose).\n",
    "        quotient = np.zeros((len(m1_inv), len(m2_trans)))\n",
    "        for i in range(len(m1)):\n",
    "            for j in range(len(m2_trans)):\n",
    "                quotient[i][j] = np.dot(m1_inv[i],m2_trans[j])\n",
    "        print(quotient)\n",
    "    except Exception as e:\n",
    "        print(e)"
   ]
  },
  {
   "cell_type": "code",
   "execution_count": 125,
   "id": "d0e9042a",
   "metadata": {},
   "outputs": [
    {
     "name": "stdout",
     "output_type": "stream",
     "text": [
      "[[-0.45545977 -0.46408046 -5.64224138 -3.70833333  1.83908046  1.65948276]\n",
      " [ 1.24568966  2.13362069  2.15086207 -0.375      -2.75862069  0.07327586]\n",
      " [-0.08333333 -0.58333333 -0.25        1.58333333  1.33333333  0.25      ]\n",
      " [-0.10775862 -0.40948276 -2.97844828 -3.625       0.03448276  0.58189655]]\n"
     ]
    }
   ],
   "source": [
    "# Test function success\n",
    "M = np.array([[6,5,3,-7],\n",
    "              [2,-1,2,-3],\n",
    "              [-4,2,8,6],\n",
    "              [3,-1,-9,-8]])\n",
    "\n",
    "N = np.array([[4,9,-3,6,1,7],\n",
    "              [-2,-3,-5,7,9,2],\n",
    "              [3,-1,7,5,-2,-1],\n",
    "              [-1,5,7,4,-4,-2]])\n",
    "\n",
    "matrix_division(M,N)"
   ]
  },
  {
   "cell_type": "code",
   "execution_count": 126,
   "id": "2580428c",
   "metadata": {},
   "outputs": [
    {
     "name": "stdout",
     "output_type": "stream",
     "text": [
      "Singular matrix\n"
     ]
    }
   ],
   "source": [
    "# Test error handling\n",
    "O = np.array([[3,-6],\n",
    "              [-1,2]])\n",
    "P = np.array([[4,1,-9,8],\n",
    "              [-2,6,3,-10]])\n",
    "\n",
    "matrix_division(O,P)"
   ]
  },
  {
   "cell_type": "code",
   "execution_count": 127,
   "id": "76422658",
   "metadata": {},
   "outputs": [
    {
     "name": "stdout",
     "output_type": "stream",
     "text": [
      "shapes (4,) and (2,) not aligned: 4 (dim 0) != 2 (dim 0)\n"
     ]
    }
   ],
   "source": [
    "matrix_division(M,P)"
   ]
  },
  {
   "cell_type": "markdown",
   "id": "ac9ff507",
   "metadata": {},
   "source": [
    "##### 5.\tWrite a function is_orthogonal(v1,v2, tol), where v1 and v2 are column vectors of the same size and tol is a scalar value strictly larger than 0. The output should be 1 if the angle between v1 and v2 is within tol of π/2; that is, |π/2−θ|<tol, and 0 otherwise. "
   ]
  },
  {
   "cell_type": "code",
   "execution_count": 135,
   "id": "f6eb1137",
   "metadata": {},
   "outputs": [
    {
     "ename": "SyntaxError",
     "evalue": "invalid syntax (Temp/ipykernel_5184/769724193.py, line 9)",
     "output_type": "error",
     "traceback": [
      "\u001b[1;36m  File \u001b[1;32m\"C:\\Users\\JMORTE~1\\AppData\\Local\\Temp/ipykernel_5184/769724193.py\"\u001b[1;36m, line \u001b[1;32m9\u001b[0m\n\u001b[1;33m    if abs(pi_over_2-angle)<tol:\u001b[0m\n\u001b[1;37m                               ^\u001b[0m\n\u001b[1;31mSyntaxError\u001b[0m\u001b[1;31m:\u001b[0m invalid syntax\n"
     ]
    }
   ],
   "source": [
    "def is_orthogonal(v1,v2,tol):\n",
    "    if len(v1) != len(v2):\n",
    "        print('column vectors must be of equal size')\n",
    "    elif tol <= 0:\n",
    "        print('scalar value must be positive')\n",
    "    else:\n",
    "        pi_over_2 = 0.5*math.pi\n",
    "        angle = math.arccos(np.dot(v1,v2)/(la.norm(v1)*la.norm(v2))\n",
    "        if abs(pi_over_2-angle)<tol:\n",
    "            print('1')\n",
    "        else:\n",
    "            print('0')"
   ]
  },
  {
   "cell_type": "code",
   "execution_count": 136,
   "id": "518e831c",
   "metadata": {},
   "outputs": [
    {
     "name": "stdout",
     "output_type": "stream",
     "text": [
      "shapes (2,1) and (2,1) not aligned: 1 (dim 1) != 2 (dim 0)\n"
     ]
    },
    {
     "ename": "TypeError",
     "evalue": "unsupported operand type(s) for -: 'float' and 'NoneType'",
     "output_type": "error",
     "traceback": [
      "\u001b[1;31m---------------------------------------------------------------------------\u001b[0m",
      "\u001b[1;31mTypeError\u001b[0m                                 Traceback (most recent call last)",
      "\u001b[1;32mC:\\Users\\JMORTE~1\\AppData\\Local\\Temp/ipykernel_5184/949875953.py\u001b[0m in \u001b[0;36m<module>\u001b[1;34m\u001b[0m\n\u001b[0;32m      5\u001b[0m               [1]])\n\u001b[0;32m      6\u001b[0m \u001b[1;31m# output: 1\u001b[0m\u001b[1;33m\u001b[0m\u001b[1;33m\u001b[0m\u001b[0m\n\u001b[1;32m----> 7\u001b[1;33m \u001b[0mis_orthogonal\u001b[0m\u001b[1;33m(\u001b[0m\u001b[0ma\u001b[0m\u001b[1;33m,\u001b[0m\u001b[0mb\u001b[0m\u001b[1;33m,\u001b[0m\u001b[1;36m0.01\u001b[0m\u001b[1;33m)\u001b[0m\u001b[1;33m\u001b[0m\u001b[1;33m\u001b[0m\u001b[0m\n\u001b[0m",
      "\u001b[1;32mC:\\Users\\JMORTE~1\\AppData\\Local\\Temp/ipykernel_5184/2082793058.py\u001b[0m in \u001b[0;36mis_orthogonal\u001b[1;34m(v1, v2, tol)\u001b[0m\n\u001b[0;32m      7\u001b[0m         \u001b[0mpi_over_2\u001b[0m \u001b[1;33m=\u001b[0m \u001b[1;36m0.5\u001b[0m\u001b[1;33m*\u001b[0m\u001b[0mmath\u001b[0m\u001b[1;33m.\u001b[0m\u001b[0mpi\u001b[0m\u001b[1;33m\u001b[0m\u001b[1;33m\u001b[0m\u001b[0m\n\u001b[0;32m      8\u001b[0m         \u001b[0mangle\u001b[0m \u001b[1;33m=\u001b[0m \u001b[0mangle_between\u001b[0m\u001b[1;33m(\u001b[0m\u001b[0mv1\u001b[0m\u001b[1;33m,\u001b[0m\u001b[0mv2\u001b[0m\u001b[1;33m)\u001b[0m \u001b[1;31m# refers to function created in question 2\u001b[0m\u001b[1;33m\u001b[0m\u001b[1;33m\u001b[0m\u001b[0m\n\u001b[1;32m----> 9\u001b[1;33m         \u001b[1;32mif\u001b[0m \u001b[0mabs\u001b[0m\u001b[1;33m(\u001b[0m\u001b[0mpi_over_2\u001b[0m\u001b[1;33m-\u001b[0m\u001b[0mangle\u001b[0m\u001b[1;33m)\u001b[0m\u001b[1;33m<\u001b[0m\u001b[0mtol\u001b[0m\u001b[1;33m:\u001b[0m\u001b[1;33m\u001b[0m\u001b[1;33m\u001b[0m\u001b[0m\n\u001b[0m\u001b[0;32m     10\u001b[0m             \u001b[0mprint\u001b[0m\u001b[1;33m(\u001b[0m\u001b[1;34m'1'\u001b[0m\u001b[1;33m)\u001b[0m\u001b[1;33m\u001b[0m\u001b[1;33m\u001b[0m\u001b[0m\n\u001b[0;32m     11\u001b[0m         \u001b[1;32melse\u001b[0m\u001b[1;33m:\u001b[0m\u001b[1;33m\u001b[0m\u001b[1;33m\u001b[0m\u001b[0m\n",
      "\u001b[1;31mTypeError\u001b[0m: unsupported operand type(s) for -: 'float' and 'NoneType'"
     ]
    }
   ],
   "source": [
    "# Test cases for problem 5\n",
    "a = np.array([[1],\n",
    "              [0.001]])\n",
    "b = np.array([[0.001],\n",
    "              [1]])\n",
    "# output: 1\n",
    "is_orthogonal(a,b,0.01)"
   ]
  },
  {
   "cell_type": "code",
   "execution_count": 137,
   "id": "5f3bc57c",
   "metadata": {},
   "outputs": [
    {
     "name": "stdout",
     "output_type": "stream",
     "text": [
      "shapes (2,1) and (2,1) not aligned: 1 (dim 1) != 2 (dim 0)\n"
     ]
    },
    {
     "ename": "TypeError",
     "evalue": "unsupported operand type(s) for -: 'float' and 'NoneType'",
     "output_type": "error",
     "traceback": [
      "\u001b[1;31m---------------------------------------------------------------------------\u001b[0m",
      "\u001b[1;31mTypeError\u001b[0m                                 Traceback (most recent call last)",
      "\u001b[1;32mC:\\Users\\JMORTE~1\\AppData\\Local\\Temp/ipykernel_5184/1892904594.py\u001b[0m in \u001b[0;36m<module>\u001b[1;34m\u001b[0m\n\u001b[0;32m      1\u001b[0m \u001b[1;31m# output: 0\u001b[0m\u001b[1;33m\u001b[0m\u001b[1;33m\u001b[0m\u001b[0m\n\u001b[1;32m----> 2\u001b[1;33m \u001b[0mis_orthogonal\u001b[0m\u001b[1;33m(\u001b[0m\u001b[0ma\u001b[0m\u001b[1;33m,\u001b[0m\u001b[0mb\u001b[0m\u001b[1;33m,\u001b[0m \u001b[1;36m0.001\u001b[0m\u001b[1;33m)\u001b[0m\u001b[1;33m\u001b[0m\u001b[1;33m\u001b[0m\u001b[0m\n\u001b[0m",
      "\u001b[1;32mC:\\Users\\JMORTE~1\\AppData\\Local\\Temp/ipykernel_5184/2082793058.py\u001b[0m in \u001b[0;36mis_orthogonal\u001b[1;34m(v1, v2, tol)\u001b[0m\n\u001b[0;32m      7\u001b[0m         \u001b[0mpi_over_2\u001b[0m \u001b[1;33m=\u001b[0m \u001b[1;36m0.5\u001b[0m\u001b[1;33m*\u001b[0m\u001b[0mmath\u001b[0m\u001b[1;33m.\u001b[0m\u001b[0mpi\u001b[0m\u001b[1;33m\u001b[0m\u001b[1;33m\u001b[0m\u001b[0m\n\u001b[0;32m      8\u001b[0m         \u001b[0mangle\u001b[0m \u001b[1;33m=\u001b[0m \u001b[0mangle_between\u001b[0m\u001b[1;33m(\u001b[0m\u001b[0mv1\u001b[0m\u001b[1;33m,\u001b[0m\u001b[0mv2\u001b[0m\u001b[1;33m)\u001b[0m \u001b[1;31m# refers to function created in question 2\u001b[0m\u001b[1;33m\u001b[0m\u001b[1;33m\u001b[0m\u001b[0m\n\u001b[1;32m----> 9\u001b[1;33m         \u001b[1;32mif\u001b[0m \u001b[0mabs\u001b[0m\u001b[1;33m(\u001b[0m\u001b[0mpi_over_2\u001b[0m\u001b[1;33m-\u001b[0m\u001b[0mangle\u001b[0m\u001b[1;33m)\u001b[0m\u001b[1;33m<\u001b[0m\u001b[0mtol\u001b[0m\u001b[1;33m:\u001b[0m\u001b[1;33m\u001b[0m\u001b[1;33m\u001b[0m\u001b[0m\n\u001b[0m\u001b[0;32m     10\u001b[0m             \u001b[0mprint\u001b[0m\u001b[1;33m(\u001b[0m\u001b[1;34m'1'\u001b[0m\u001b[1;33m)\u001b[0m\u001b[1;33m\u001b[0m\u001b[1;33m\u001b[0m\u001b[0m\n\u001b[0;32m     11\u001b[0m         \u001b[1;32melse\u001b[0m\u001b[1;33m:\u001b[0m\u001b[1;33m\u001b[0m\u001b[1;33m\u001b[0m\u001b[0m\n",
      "\u001b[1;31mTypeError\u001b[0m: unsupported operand type(s) for -: 'float' and 'NoneType'"
     ]
    }
   ],
   "source": [
    "# output: 0\n",
    "is_orthogonal(a,b, 0.001)"
   ]
  },
  {
   "cell_type": "code",
   "execution_count": 138,
   "id": "34b3a0cb",
   "metadata": {},
   "outputs": [
    {
     "name": "stdout",
     "output_type": "stream",
     "text": [
      "shapes (2,1) and (2,1) not aligned: 1 (dim 1) != 2 (dim 0)\n"
     ]
    },
    {
     "ename": "TypeError",
     "evalue": "unsupported operand type(s) for -: 'float' and 'NoneType'",
     "output_type": "error",
     "traceback": [
      "\u001b[1;31m---------------------------------------------------------------------------\u001b[0m",
      "\u001b[1;31mTypeError\u001b[0m                                 Traceback (most recent call last)",
      "\u001b[1;32mC:\\Users\\JMORTE~1\\AppData\\Local\\Temp/ipykernel_5184/3175879033.py\u001b[0m in \u001b[0;36m<module>\u001b[1;34m\u001b[0m\n\u001b[0;32m      2\u001b[0m \u001b[0ma\u001b[0m \u001b[1;33m=\u001b[0m \u001b[0mnp\u001b[0m\u001b[1;33m.\u001b[0m\u001b[0marray\u001b[0m\u001b[1;33m(\u001b[0m\u001b[1;33m[\u001b[0m\u001b[1;33m[\u001b[0m\u001b[1;36m1\u001b[0m\u001b[1;33m]\u001b[0m\u001b[1;33m,\u001b[0m \u001b[1;33m[\u001b[0m\u001b[1;36m0.001\u001b[0m\u001b[1;33m]\u001b[0m\u001b[1;33m]\u001b[0m\u001b[1;33m)\u001b[0m\u001b[1;33m\u001b[0m\u001b[1;33m\u001b[0m\u001b[0m\n\u001b[0;32m      3\u001b[0m \u001b[0mb\u001b[0m \u001b[1;33m=\u001b[0m \u001b[0mnp\u001b[0m\u001b[1;33m.\u001b[0m\u001b[0marray\u001b[0m\u001b[1;33m(\u001b[0m\u001b[1;33m[\u001b[0m\u001b[1;33m[\u001b[0m\u001b[1;36m1\u001b[0m\u001b[1;33m]\u001b[0m\u001b[1;33m,\u001b[0m \u001b[1;33m[\u001b[0m\u001b[1;36m1\u001b[0m\u001b[1;33m]\u001b[0m\u001b[1;33m]\u001b[0m\u001b[1;33m)\u001b[0m\u001b[1;33m\u001b[0m\u001b[1;33m\u001b[0m\u001b[0m\n\u001b[1;32m----> 4\u001b[1;33m \u001b[0mis_orthogonal\u001b[0m\u001b[1;33m(\u001b[0m\u001b[0ma\u001b[0m\u001b[1;33m,\u001b[0m\u001b[0mb\u001b[0m\u001b[1;33m,\u001b[0m \u001b[1;36m0.01\u001b[0m\u001b[1;33m)\u001b[0m\u001b[1;33m\u001b[0m\u001b[1;33m\u001b[0m\u001b[0m\n\u001b[0m",
      "\u001b[1;32mC:\\Users\\JMORTE~1\\AppData\\Local\\Temp/ipykernel_5184/2082793058.py\u001b[0m in \u001b[0;36mis_orthogonal\u001b[1;34m(v1, v2, tol)\u001b[0m\n\u001b[0;32m      7\u001b[0m         \u001b[0mpi_over_2\u001b[0m \u001b[1;33m=\u001b[0m \u001b[1;36m0.5\u001b[0m\u001b[1;33m*\u001b[0m\u001b[0mmath\u001b[0m\u001b[1;33m.\u001b[0m\u001b[0mpi\u001b[0m\u001b[1;33m\u001b[0m\u001b[1;33m\u001b[0m\u001b[0m\n\u001b[0;32m      8\u001b[0m         \u001b[0mangle\u001b[0m \u001b[1;33m=\u001b[0m \u001b[0mangle_between\u001b[0m\u001b[1;33m(\u001b[0m\u001b[0mv1\u001b[0m\u001b[1;33m,\u001b[0m\u001b[0mv2\u001b[0m\u001b[1;33m)\u001b[0m \u001b[1;31m# refers to function created in question 2\u001b[0m\u001b[1;33m\u001b[0m\u001b[1;33m\u001b[0m\u001b[0m\n\u001b[1;32m----> 9\u001b[1;33m         \u001b[1;32mif\u001b[0m \u001b[0mabs\u001b[0m\u001b[1;33m(\u001b[0m\u001b[0mpi_over_2\u001b[0m\u001b[1;33m-\u001b[0m\u001b[0mangle\u001b[0m\u001b[1;33m)\u001b[0m\u001b[1;33m<\u001b[0m\u001b[0mtol\u001b[0m\u001b[1;33m:\u001b[0m\u001b[1;33m\u001b[0m\u001b[1;33m\u001b[0m\u001b[0m\n\u001b[0m\u001b[0;32m     10\u001b[0m             \u001b[0mprint\u001b[0m\u001b[1;33m(\u001b[0m\u001b[1;34m'1'\u001b[0m\u001b[1;33m)\u001b[0m\u001b[1;33m\u001b[0m\u001b[1;33m\u001b[0m\u001b[0m\n\u001b[0;32m     11\u001b[0m         \u001b[1;32melse\u001b[0m\u001b[1;33m:\u001b[0m\u001b[1;33m\u001b[0m\u001b[1;33m\u001b[0m\u001b[0m\n",
      "\u001b[1;31mTypeError\u001b[0m: unsupported operand type(s) for -: 'float' and 'NoneType'"
     ]
    }
   ],
   "source": [
    "# output: 0\n",
    "a = np.array([[1], [0.001]])\n",
    "b = np.array([[1], [1]])\n",
    "is_orthogonal(a,b, 0.01)"
   ]
  },
  {
   "cell_type": "code",
   "execution_count": 139,
   "id": "2e4fe155",
   "metadata": {},
   "outputs": [
    {
     "name": "stdout",
     "output_type": "stream",
     "text": [
      "shapes (2,1) and (2,1) not aligned: 1 (dim 1) != 2 (dim 0)\n"
     ]
    },
    {
     "ename": "TypeError",
     "evalue": "unsupported operand type(s) for -: 'float' and 'NoneType'",
     "output_type": "error",
     "traceback": [
      "\u001b[1;31m---------------------------------------------------------------------------\u001b[0m",
      "\u001b[1;31mTypeError\u001b[0m                                 Traceback (most recent call last)",
      "\u001b[1;32mC:\\Users\\JMORTE~1\\AppData\\Local\\Temp/ipykernel_5184/2072764440.py\u001b[0m in \u001b[0;36m<module>\u001b[1;34m\u001b[0m\n\u001b[0;32m      2\u001b[0m \u001b[0ma\u001b[0m \u001b[1;33m=\u001b[0m \u001b[0mnp\u001b[0m\u001b[1;33m.\u001b[0m\u001b[0marray\u001b[0m\u001b[1;33m(\u001b[0m\u001b[1;33m[\u001b[0m\u001b[1;33m[\u001b[0m\u001b[1;36m1\u001b[0m\u001b[1;33m]\u001b[0m\u001b[1;33m,\u001b[0m \u001b[1;33m[\u001b[0m\u001b[1;36m1\u001b[0m\u001b[1;33m]\u001b[0m\u001b[1;33m]\u001b[0m\u001b[1;33m)\u001b[0m\u001b[1;33m\u001b[0m\u001b[1;33m\u001b[0m\u001b[0m\n\u001b[0;32m      3\u001b[0m \u001b[0mb\u001b[0m \u001b[1;33m=\u001b[0m \u001b[0mnp\u001b[0m\u001b[1;33m.\u001b[0m\u001b[0marray\u001b[0m\u001b[1;33m(\u001b[0m\u001b[1;33m[\u001b[0m\u001b[1;33m[\u001b[0m\u001b[1;33m-\u001b[0m\u001b[1;36m1\u001b[0m\u001b[1;33m]\u001b[0m\u001b[1;33m,\u001b[0m \u001b[1;33m[\u001b[0m\u001b[1;36m1\u001b[0m\u001b[1;33m]\u001b[0m\u001b[1;33m]\u001b[0m\u001b[1;33m)\u001b[0m\u001b[1;33m\u001b[0m\u001b[1;33m\u001b[0m\u001b[0m\n\u001b[1;32m----> 4\u001b[1;33m \u001b[0mis_orthogonal\u001b[0m\u001b[1;33m(\u001b[0m\u001b[0ma\u001b[0m\u001b[1;33m,\u001b[0m\u001b[0mb\u001b[0m\u001b[1;33m,\u001b[0m \u001b[1;36m1e-10\u001b[0m\u001b[1;33m)\u001b[0m\u001b[1;33m\u001b[0m\u001b[1;33m\u001b[0m\u001b[0m\n\u001b[0m",
      "\u001b[1;32mC:\\Users\\JMORTE~1\\AppData\\Local\\Temp/ipykernel_5184/2082793058.py\u001b[0m in \u001b[0;36mis_orthogonal\u001b[1;34m(v1, v2, tol)\u001b[0m\n\u001b[0;32m      7\u001b[0m         \u001b[0mpi_over_2\u001b[0m \u001b[1;33m=\u001b[0m \u001b[1;36m0.5\u001b[0m\u001b[1;33m*\u001b[0m\u001b[0mmath\u001b[0m\u001b[1;33m.\u001b[0m\u001b[0mpi\u001b[0m\u001b[1;33m\u001b[0m\u001b[1;33m\u001b[0m\u001b[0m\n\u001b[0;32m      8\u001b[0m         \u001b[0mangle\u001b[0m \u001b[1;33m=\u001b[0m \u001b[0mangle_between\u001b[0m\u001b[1;33m(\u001b[0m\u001b[0mv1\u001b[0m\u001b[1;33m,\u001b[0m\u001b[0mv2\u001b[0m\u001b[1;33m)\u001b[0m \u001b[1;31m# refers to function created in question 2\u001b[0m\u001b[1;33m\u001b[0m\u001b[1;33m\u001b[0m\u001b[0m\n\u001b[1;32m----> 9\u001b[1;33m         \u001b[1;32mif\u001b[0m \u001b[0mabs\u001b[0m\u001b[1;33m(\u001b[0m\u001b[0mpi_over_2\u001b[0m\u001b[1;33m-\u001b[0m\u001b[0mangle\u001b[0m\u001b[1;33m)\u001b[0m\u001b[1;33m<\u001b[0m\u001b[0mtol\u001b[0m\u001b[1;33m:\u001b[0m\u001b[1;33m\u001b[0m\u001b[1;33m\u001b[0m\u001b[0m\n\u001b[0m\u001b[0;32m     10\u001b[0m             \u001b[0mprint\u001b[0m\u001b[1;33m(\u001b[0m\u001b[1;34m'1'\u001b[0m\u001b[1;33m)\u001b[0m\u001b[1;33m\u001b[0m\u001b[1;33m\u001b[0m\u001b[0m\n\u001b[0;32m     11\u001b[0m         \u001b[1;32melse\u001b[0m\u001b[1;33m:\u001b[0m\u001b[1;33m\u001b[0m\u001b[1;33m\u001b[0m\u001b[0m\n",
      "\u001b[1;31mTypeError\u001b[0m: unsupported operand type(s) for -: 'float' and 'NoneType'"
     ]
    }
   ],
   "source": [
    "# output: 1\n",
    "a = np.array([[1], [1]])\n",
    "b = np.array([[-1], [1]])\n",
    "is_orthogonal(a,b, 1e-10)"
   ]
  },
  {
   "cell_type": "markdown",
   "id": "fde54a10",
   "metadata": {},
   "source": [
    "##### 6.\tCreate a class called vector_calculator. __init__ should take self, vector1, and vector2. It should have two methods inside of it that are from problems 1 and 4 above (angle_between and is_orthogonal). Make sure tol is defaulted but can be overwritten. Make sure you can call angle_between and is_orthogonal through the class and return the correct results as in problems 1 and 4. \n"
   ]
  },
  {
   "cell_type": "code",
   "execution_count": null,
   "id": "d9e3844c",
   "metadata": {},
   "outputs": [],
   "source": []
  },
  {
   "cell_type": "markdown",
   "id": "fd6875ec",
   "metadata": {},
   "source": [
    "#### 7.\tShow a graphical representation of the breast cancer data outlined in this reading https://www.datacamp.com/community/tutorials/principal-component-analysis-in-python Be sure to describe what PCA is and incorporate the principal components in your plot. This is just exploratory, so there are many correct answers!\n"
   ]
  },
  {
   "cell_type": "code",
   "execution_count": null,
   "id": "a7d6a475",
   "metadata": {},
   "outputs": [],
   "source": []
  }
 ],
 "metadata": {
  "kernelspec": {
   "display_name": "Python 3 (ipykernel)",
   "language": "python",
   "name": "python3"
  },
  "language_info": {
   "codemirror_mode": {
    "name": "ipython",
    "version": 3
   },
   "file_extension": ".py",
   "mimetype": "text/x-python",
   "name": "python",
   "nbconvert_exporter": "python",
   "pygments_lexer": "ipython3",
   "version": "3.9.7"
  }
 },
 "nbformat": 4,
 "nbformat_minor": 5
}
